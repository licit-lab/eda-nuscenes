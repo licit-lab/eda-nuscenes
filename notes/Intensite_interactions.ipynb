{
 "cells": [
  {
   "cell_type": "markdown",
   "id": "valid-might",
   "metadata": {},
   "source": [
    "# Évaluation des intéractions entre le véhicule et son environnement"
   ]
  },
  {
   "cell_type": "code",
   "execution_count": 1,
   "id": "weird-bobby",
   "metadata": {},
   "outputs": [
    {
     "name": "stdout",
     "output_type": "stream",
     "text": [
      "======\n",
      "Loading NuScenes tables for version v1.0-mini...\n",
      "23 category,\n",
      "8 attribute,\n",
      "4 visibility,\n",
      "911 instance,\n",
      "12 sensor,\n",
      "120 calibrated_sensor,\n",
      "31206 ego_pose,\n",
      "8 log,\n",
      "10 scene,\n",
      "404 sample,\n",
      "31206 sample_data,\n",
      "18538 sample_annotation,\n",
      "4 map,\n",
      "Done loading in 0.345 seconds.\n",
      "======\n",
      "Reverse indexing ...\n",
      "Done reverse indexing in 0.1 seconds.\n",
      "======\n"
     ]
    }
   ],
   "source": [
    "%matplotlib inline\n",
    "from nuscenes.nuscenes import NuScenes\n",
    "nusc = NuScenes(version='v1.0-mini', dataroot='/Users/tiffanydarini/nuscenes-devkit/python-sdk/tutorials/data/sets/nuscenes/v1.0-mini', verbose=True)"
   ]
  },
  {
   "cell_type": "markdown",
   "id": "confirmed-drilling",
   "metadata": {},
   "source": [
    "### Étape 1 : Récupération des données sur le véhicule ego"
   ]
  },
  {
   "cell_type": "code",
   "execution_count": 2,
   "id": "aerial-latvia",
   "metadata": {},
   "outputs": [],
   "source": [
    "# Fonction qui renvoie les tables ego_pose d'une scène donnée\n",
    "def get_poses(scene_token):\n",
    "    pose_list = []\n",
    "    scene_rec = nusc.get('scene', scene_token)\n",
    "    sample_rec = nusc.get('sample', scene_rec['first_sample_token'])\n",
    "    sd_rec = nusc.get('sample_data', sample_rec['data']['LIDAR_TOP'])\n",
    "    \n",
    "    ego_pose = nusc.get('ego_pose', sd_rec['token'])\n",
    "    pose_list.append(ego_pose)\n",
    "\n",
    "    while sd_rec['next'] != '':\n",
    "        sd_rec = nusc.get('sample_data', sd_rec['next'])\n",
    "        ego_pose = nusc.get('ego_pose', sd_rec['token'])\n",
    "        pose_list.append(ego_pose)\n",
    "\n",
    "    return pose_list"
   ]
  },
  {
   "cell_type": "code",
   "execution_count": 3,
   "id": "massive-reaction",
   "metadata": {},
   "outputs": [],
   "source": [
    "# On utilise ce qu'on a déjà (liste ego_poses)\n",
    "scene_name = 'scene-0061'\n",
    "scene_token = nusc.field2token('scene','name',scene_name)[0]\n",
    "Liste_ego_poses = get_poses(scene_token) \n",
    "\n",
    "# Création des liste de coordonnées du véhicule égo \n",
    "X_coord =[]\n",
    "Y_coord =[]\n",
    "Z_coord =[]\n",
    "T_timestamp = [] # liste des timestamps\n",
    "for k in range(0,len(Liste_ego_poses)):\n",
    "    X_coord.append(Liste_ego_poses[k]['translation'][0])\n",
    "    Y_coord.append(Liste_ego_poses[k]['translation'][1])\n",
    "    Z_coord.append(Liste_ego_poses[k]['translation'][2])\n",
    "    T_timestamp.append(Liste_ego_poses[k]['timestamp'])"
   ]
  },
  {
   "cell_type": "markdown",
   "id": "optional-cotton",
   "metadata": {},
   "source": [
    "### Étape 2 : On récupère les échantillons de la scène "
   ]
  },
  {
   "cell_type": "code",
   "execution_count": 4,
   "id": "early-completion",
   "metadata": {},
   "outputs": [
    {
     "data": {
      "text/plain": [
       "39"
      ]
     },
     "execution_count": 4,
     "metadata": {},
     "output_type": "execute_result"
    }
   ],
   "source": [
    "# Ensemble des token des échantillons de la scene \n",
    "sample_token = nusc.field2token('sample','scene_token',scene_token)\n",
    "len(sample_token)"
   ]
  },
  {
   "cell_type": "markdown",
   "id": "musical-anchor",
   "metadata": {},
   "source": [
    "### Étape 3 : On récupère les sample_annotation de la scène (boites d'objets dans la scène)"
   ]
  },
  {
   "cell_type": "code",
   "execution_count": 5,
   "id": "twelve-immune",
   "metadata": {},
   "outputs": [],
   "source": [
    "# Ensemble des sample_annotation de la scène :\n",
    "\n",
    "sample_annotation_token = []\n",
    "for k in sample_token : \n",
    "    L = nusc.field2token('sample_annotation','sample_token',k)\n",
    "    sample_annotation_token = sample_annotation_token + L"
   ]
  },
  {
   "cell_type": "markdown",
   "id": "grand-stations",
   "metadata": {},
   "source": [
    "### Étape 4 : Liste des instances dans la scène"
   ]
  },
  {
   "cell_type": "code",
   "execution_count": 6,
   "id": "certain-senegal",
   "metadata": {},
   "outputs": [],
   "source": [
    "# On créé la liste des token des instances présents dans les sample_annotation\n",
    "L_instance_token = []\n",
    "for k in sample_annotation_token :\n",
    "    exemple = nusc.get('sample_annotation', k)\n",
    "    L_instance_token.append(exemple['instance_token'])"
   ]
  },
  {
   "cell_type": "code",
   "execution_count": 7,
   "id": "foreign-platform",
   "metadata": {},
   "outputs": [
    {
     "name": "stdout",
     "output_type": "stream",
     "text": [
      "Il y a 227 instances dans la scène scene-0061\n"
     ]
    }
   ],
   "source": [
    "# Puisque pour un même objet, on peut avoir plusieurs annotations, on supprime les doublons de L\n",
    "L_instance_token = list(set(L_instance_token))\n",
    "len(L_instance_token)\n",
    "print('Il y a '+str(len(L_instance_token))+' instances dans la scène ' +scene_name)"
   ]
  },
  {
   "cell_type": "markdown",
   "id": "nutritional-bridges",
   "metadata": {},
   "source": [
    "### Étape 5 : Séparation de chaque catégorie "
   ]
  },
  {
   "cell_type": "code",
   "execution_count": 8,
   "id": "alleged-tuition",
   "metadata": {},
   "outputs": [
    {
     "data": {
      "text/plain": [
       "['vehicle.truck',\n",
       " 'movable_object.barrier',\n",
       " 'movable_object.trafficcone',\n",
       " 'vehicle.bus.rigid',\n",
       " 'movable_object.pushable_pullable',\n",
       " 'human.pedestrian.adult',\n",
       " 'vehicle.bicycle',\n",
       " 'vehicle.car',\n",
       " 'movable_object.debris',\n",
       " 'human.pedestrian.construction_worker',\n",
       " 'vehicle.motorcycle',\n",
       " 'vehicle.construction']"
      ]
     },
     "execution_count": 8,
     "metadata": {},
     "output_type": "execute_result"
    }
   ],
   "source": [
    "# Liste des catégories d'objet dans la scène \n",
    "L_category_name = []\n",
    "for k in sample_annotation_token :\n",
    "    exemple = nusc.get('sample_annotation', k)\n",
    "    L_category_name.append(exemple['category_name'])\n",
    "L_category_name = list(set(L_category_name))\n",
    "L_category_name"
   ]
  },
  {
   "cell_type": "code",
   "execution_count": 9,
   "id": "iraqi-boutique",
   "metadata": {},
   "outputs": [
    {
     "data": {
      "text/plain": [
       "{'token': 'fd69059b62a3469fbaef25340c0eab7f',\n",
       " 'name': 'vehicle.car',\n",
       " 'description': 'Vehicle designed primarily for personal use, e.g. sedans, hatch-backs, wagons, vans, mini-vans, SUVs and jeeps. If the vehicle is designed to carry more than 10 people use vehicle.bus. If it is primarily designed to haul cargo use vehicle.truck. '}"
      ]
     },
     "execution_count": 9,
     "metadata": {},
     "output_type": "execute_result"
    }
   ],
   "source": [
    "# Pour l'instant, travail à la main pour chaque catégorie trouvée\n",
    "k = 7\n",
    "catego_name = L_category_name[k]\n",
    "catego_token = nusc.field2token('category','name',catego_name)\n",
    "category = nusc.get('category',catego_token[0])\n",
    "category"
   ]
  },
  {
   "cell_type": "code",
   "execution_count": 10,
   "id": "embedded-academy",
   "metadata": {},
   "outputs": [],
   "source": [
    "# Ensemble des instances appartenant à la fois à la scène et à la catégorie\n",
    "L_instance_category = nusc.field2token('instance','category_token',catego_token[0]) # instance dans la catégorie\n",
    "L_instance_category = [x for x in L_instance_category if x in L_instance_token]# et dans la scène "
   ]
  },
  {
   "cell_type": "code",
   "execution_count": 11,
   "id": "incoming-chicago",
   "metadata": {},
   "outputs": [],
   "source": [
    "L=[]\n",
    "for k in L_instance_category : \n",
    "    instance_category = nusc.get('instance',k)\n",
    "    nbr_annotations = instance_category['nbr_annotations']\n",
    "    if nbr_annotations == 1:\n",
    "        L.append([instance_category['first_annotation_token']])\n",
    "    else : \n",
    "        H = []\n",
    "        first_token = instance_category['first_annotation_token']\n",
    "        last_token = instance_category['last_annotation_token']\n",
    "        current_token = first_token \n",
    "        \n",
    "        i = 0 \n",
    "        while i!= nbr_annotations :\n",
    "            current_ann = nusc.get('sample_annotation', current_token)\n",
    "            H.append(current_ann['token'])\n",
    "            current_token = current_ann['next'] #On passe au suivant\n",
    "            i+=1\n",
    "        L.append(H)\n",
    "# Il peut y avoir plusieurs éléments de la catégorie dans la scène, ici chaque ligne de L représente \n",
    "# les token des sample_annotation pour un élément de cette catégorie. "
   ]
  },
  {
   "cell_type": "code",
   "execution_count": 12,
   "id": "generous-forwarding",
   "metadata": {},
   "outputs": [],
   "source": [
    "# Maintenant qu'on a les token de tous les sample_annotation pour tous les éléments d'une même catégorie, \n",
    "# on va pouvoir récupérer leurs positions et tracer leurs trajectoires\n",
    "\n",
    "X = []\n",
    "Y = []\n",
    "Z = []\n",
    "T_time = []\n",
    "for k in L :\n",
    "    x = []\n",
    "    y = []\n",
    "    z = []\n",
    "    t = []\n",
    "    for j in k :\n",
    "        sample_annotation = nusc.get('sample_annotation',j)\n",
    "        x.append(sample_annotation['translation'][0])\n",
    "        y.append(sample_annotation['translation'][1])\n",
    "        z.append(sample_annotation['translation'][2])\n",
    "        t.append(nusc.get('sample',sample_annotation['sample_token'])['timestamp'])\n",
    "    X.append(x)\n",
    "    Y.append(y)\n",
    "    Z.append(z)\n",
    "    T_time.append(t)"
   ]
  },
  {
   "cell_type": "markdown",
   "id": "lonely-boating",
   "metadata": {},
   "source": [
    "### Étape 6 : Fonction pour savoir si un objet est immobile ou pas "
   ]
  },
  {
   "cell_type": "code",
   "execution_count": 13,
   "id": "better-estonia",
   "metadata": {},
   "outputs": [],
   "source": [
    "# On crée une fonction qui renvoie la liste des rangs dans les listes X,Y des objets immobiles de \n",
    "# cette liste et donc d'une même catégorie, ainsi que la liste des objets mobiles \n",
    "from math import sqrt\n",
    "\n",
    "def immobile(X,Y):\n",
    "    Immo = []\n",
    "    Mobile = []\n",
    "    n = len(X) # Nombre d'élément dans la catégorie \n",
    "    for i in range(0,n-1):\n",
    "        X_coord = X[i]\n",
    "        Y_coord = Y[i]\n",
    "        if len(X_coord)==1 :\n",
    "            Immo.append(i)\n",
    "        else : \n",
    "            d = 0 \n",
    "            for k in range(0,len(X_coord)-1):\n",
    "                d+= sqrt((X_coord[k+1]-X_coord[k])**2+(Y_coord[k+1]-Y_coord[k])**2)\n",
    "            if d<2 : # Si la distance totale parcourue par l'objet est inférieur à 2m, on considère que l'objet bouge pas\n",
    "                Immo.append(i)\n",
    "            else :\n",
    "                Mobile.append(i)\n",
    "    return Immo,Mobile  "
   ]
  },
  {
   "cell_type": "code",
   "execution_count": 14,
   "id": "cubic-agriculture",
   "metadata": {},
   "outputs": [
    {
     "data": {
      "text/plain": [
       "5"
      ]
     },
     "execution_count": 14,
     "metadata": {},
     "output_type": "execute_result"
    }
   ],
   "source": [
    "Immo, Mobile = immobile(X,Y)\n",
    "len(Mobile)"
   ]
  },
  {
   "cell_type": "markdown",
   "id": "straight-basin",
   "metadata": {},
   "source": [
    "### Étape 7 : On garde uniquement les objets mobiles"
   ]
  },
  {
   "cell_type": "code",
   "execution_count": 15,
   "id": "modern-maximum",
   "metadata": {},
   "outputs": [
    {
     "data": {
      "text/plain": [
       "5"
      ]
     },
     "execution_count": 15,
     "metadata": {},
     "output_type": "execute_result"
    }
   ],
   "source": [
    "X_mobile=[X[i] for i in Mobile]\n",
    "Y_mobile=[Y[i] for i in Mobile]\n",
    "Z_mobile=[Z[i] for i in Mobile]\n",
    "T_mobile = [T_time[i] for i in Mobile]\n",
    "len(X_mobile)"
   ]
  },
  {
   "cell_type": "markdown",
   "id": "anonymous-lightweight",
   "metadata": {},
   "source": [
    "### Étape 8 : Création des vecteurs"
   ]
  },
  {
   "cell_type": "code",
   "execution_count": 16,
   "id": "innocent-variable",
   "metadata": {},
   "outputs": [],
   "source": [
    "import numpy as np\n",
    "import datetime \n",
    "from datetime import timedelta"
   ]
  },
  {
   "cell_type": "code",
   "execution_count": 17,
   "id": "social-retreat",
   "metadata": {},
   "outputs": [],
   "source": [
    "# On commence par le véhicule ego \n",
    "V_ego = []\n",
    "for k in range(0,len(X_coord)-1):\n",
    "    t2 = datetime.datetime.fromtimestamp(T_timestamp[k+1]/ 1e6)\n",
    "    t1 = datetime.datetime.fromtimestamp(T_timestamp[k]/ 1e6)\n",
    "    t = (t2-t1).total_seconds()\n",
    "    v = np.array([X_coord[k+1]-X_coord[k],Y_coord[k+1]-Y_coord[k]])/t # Le vecteur a pour norme la vitesse à l'instant k\n",
    "    V_ego.append(v)"
   ]
  },
  {
   "cell_type": "code",
   "execution_count": 18,
   "id": "injured-sitting",
   "metadata": {},
   "outputs": [],
   "source": [
    "# On va travailler avec une df\n",
    "import pandas as pd"
   ]
  },
  {
   "cell_type": "code",
   "execution_count": 19,
   "id": "portable-valley",
   "metadata": {},
   "outputs": [
    {
     "data": {
      "text/html": [
       "<div>\n",
       "<style scoped>\n",
       "    .dataframe tbody tr th:only-of-type {\n",
       "        vertical-align: middle;\n",
       "    }\n",
       "\n",
       "    .dataframe tbody tr th {\n",
       "        vertical-align: top;\n",
       "    }\n",
       "\n",
       "    .dataframe thead th {\n",
       "        text-align: right;\n",
       "    }\n",
       "</style>\n",
       "<table border=\"1\" class=\"dataframe\">\n",
       "  <thead>\n",
       "    <tr style=\"text-align: right;\">\n",
       "      <th></th>\n",
       "      <th>V_ego</th>\n",
       "    </tr>\n",
       "  </thead>\n",
       "  <tbody>\n",
       "    <tr>\n",
       "      <th>0</th>\n",
       "      <td>[-3.1712023320455462, -8.567313420091782]</td>\n",
       "    </tr>\n",
       "    <tr>\n",
       "      <th>1</th>\n",
       "      <td>[-3.1207235773484103, -8.562076268008871]</td>\n",
       "    </tr>\n",
       "    <tr>\n",
       "      <th>2</th>\n",
       "      <td>[-3.1653930094341445, -8.53617857224011]</td>\n",
       "    </tr>\n",
       "    <tr>\n",
       "      <th>3</th>\n",
       "      <td>[-3.1740825254365994, -8.49344994582648]</td>\n",
       "    </tr>\n",
       "    <tr>\n",
       "      <th>4</th>\n",
       "      <td>[-3.243236261012891, -8.504405724567667]</td>\n",
       "    </tr>\n",
       "    <tr>\n",
       "      <th>...</th>\n",
       "      <td>...</td>\n",
       "    </tr>\n",
       "    <tr>\n",
       "      <th>376</th>\n",
       "      <td>[1.9723523754827463, -0.4720986514141277]</td>\n",
       "    </tr>\n",
       "    <tr>\n",
       "      <th>377</th>\n",
       "      <td>[1.783906470998763, -0.4205889639945817]</td>\n",
       "    </tr>\n",
       "    <tr>\n",
       "      <th>378</th>\n",
       "      <td>[1.8364963045822984, -0.414838869174028]</td>\n",
       "    </tr>\n",
       "    <tr>\n",
       "      <th>379</th>\n",
       "      <td>[1.9999102240345528, -0.44535267086528335]</td>\n",
       "    </tr>\n",
       "    <tr>\n",
       "      <th>380</th>\n",
       "      <td>[1.961233226918754, -0.41559973813296724]</td>\n",
       "    </tr>\n",
       "  </tbody>\n",
       "</table>\n",
       "<p>381 rows × 1 columns</p>\n",
       "</div>"
      ],
      "text/plain": [
       "                                          V_ego\n",
       "0     [-3.1712023320455462, -8.567313420091782]\n",
       "1     [-3.1207235773484103, -8.562076268008871]\n",
       "2      [-3.1653930094341445, -8.53617857224011]\n",
       "3      [-3.1740825254365994, -8.49344994582648]\n",
       "4      [-3.243236261012891, -8.504405724567667]\n",
       "..                                          ...\n",
       "376   [1.9723523754827463, -0.4720986514141277]\n",
       "377    [1.783906470998763, -0.4205889639945817]\n",
       "378    [1.8364963045822984, -0.414838869174028]\n",
       "379  [1.9999102240345528, -0.44535267086528335]\n",
       "380   [1.961233226918754, -0.41559973813296724]\n",
       "\n",
       "[381 rows x 1 columns]"
      ]
     },
     "execution_count": 19,
     "metadata": {},
     "output_type": "execute_result"
    }
   ],
   "source": [
    "df_vecteurs = pd.DataFrame({'V_ego':V_ego})\n",
    "df_vecteurs"
   ]
  },
  {
   "cell_type": "code",
   "execution_count": 20,
   "id": "medical-detector",
   "metadata": {},
   "outputs": [],
   "source": [
    "# On passe aux éléments de la catégorie \n",
    "i = 0 \n",
    "for j in range(0,len(X_mobile)) :\n",
    "    i = i+ 1\n",
    "    V = []\n",
    "    for k in range(0,len(X_mobile[j])-1):\n",
    "        t2 = datetime.datetime.fromtimestamp(T_mobile[j][k+1]/ 1e6)\n",
    "        t1 = datetime.datetime.fromtimestamp(T_mobile[j][k]/ 1e6)\n",
    "        t = (t2-t1).total_seconds()\n",
    "        v = np.array([X_mobile[j][k+1]-X_mobile[j][k],Y_mobile[j][k+1]-Y_mobile[j][k]])\n",
    "        V.append(v)\n",
    "    # On a pas autant de vecteur pour un objet que pour le véhicule ego\n",
    "    nbr_case_vide = len(V_ego)-len(V)\n",
    "    Complement = [np.nan]*nbr_case_vide # on va donc compléter par des cases vides pour mettre dans la df\n",
    "    Vf = V + Complement\n",
    "    df_vecteurs[catego_name+ str(i)]=Vf"
   ]
  },
  {
   "cell_type": "code",
   "execution_count": 21,
   "id": "median-facility",
   "metadata": {},
   "outputs": [
    {
     "data": {
      "text/html": [
       "<div>\n",
       "<style scoped>\n",
       "    .dataframe tbody tr th:only-of-type {\n",
       "        vertical-align: middle;\n",
       "    }\n",
       "\n",
       "    .dataframe tbody tr th {\n",
       "        vertical-align: top;\n",
       "    }\n",
       "\n",
       "    .dataframe thead th {\n",
       "        text-align: right;\n",
       "    }\n",
       "</style>\n",
       "<table border=\"1\" class=\"dataframe\">\n",
       "  <thead>\n",
       "    <tr style=\"text-align: right;\">\n",
       "      <th></th>\n",
       "      <th>V_ego</th>\n",
       "      <th>vehicle.car1</th>\n",
       "      <th>vehicle.car2</th>\n",
       "      <th>vehicle.car3</th>\n",
       "      <th>vehicle.car4</th>\n",
       "      <th>vehicle.car5</th>\n",
       "    </tr>\n",
       "  </thead>\n",
       "  <tbody>\n",
       "    <tr>\n",
       "      <th>0</th>\n",
       "      <td>[-3.1712023320455462, -8.567313420091782]</td>\n",
       "      <td>[1.9870000000000232, 4.3539999999998145]</td>\n",
       "      <td>[-0.41200000000003456, -0.7470000000000709]</td>\n",
       "      <td>[-2.197999999999979, -5.18100000000004]</td>\n",
       "      <td>[-0.8670000000000186, -2.4420000000000073]</td>\n",
       "      <td>[-1.5790000000000077, -3.6520000000000437]</td>\n",
       "    </tr>\n",
       "    <tr>\n",
       "      <th>1</th>\n",
       "      <td>[-3.1207235773484103, -8.562076268008871]</td>\n",
       "      <td>[2.1499999999999773, 4.671000000000049]</td>\n",
       "      <td>[-0.10899999999998045, -0.2179999999998472]</td>\n",
       "      <td>[-2.4879999999999995, -5.692999999999984]</td>\n",
       "      <td>[-0.8799999999999955, -2.5]</td>\n",
       "      <td>[-1.5790000000000077, -3.6519999999998163]</td>\n",
       "    </tr>\n",
       "    <tr>\n",
       "      <th>2</th>\n",
       "      <td>[-3.1653930094341445, -8.53617857224011]</td>\n",
       "      <td>NaN</td>\n",
       "      <td>[-0.19499999999999318, -0.9660000000001219]</td>\n",
       "      <td>[-2.009999999999991, -5.037000000000035]</td>\n",
       "      <td>[-0.4919999999999618, -2.310000000000173]</td>\n",
       "      <td>[-1.5790000000000077, -3.6520000000000437]</td>\n",
       "    </tr>\n",
       "    <tr>\n",
       "      <th>3</th>\n",
       "      <td>[-3.1740825254365994, -8.49344994582648]</td>\n",
       "      <td>NaN</td>\n",
       "      <td>[-0.5600000000000023, -1.2539999999999054]</td>\n",
       "      <td>[-2.2410000000000423, -4.997000000000071]</td>\n",
       "      <td>[-0.4910000000000423, -2.269999999999982]</td>\n",
       "      <td>[-1.5779999999999745, -3.6520000000000437]</td>\n",
       "    </tr>\n",
       "    <tr>\n",
       "      <th>4</th>\n",
       "      <td>[-3.243236261012891, -8.504405724567667]</td>\n",
       "      <td>NaN</td>\n",
       "      <td>[-0.7340000000000373, -1.7799999999999727]</td>\n",
       "      <td>NaN</td>\n",
       "      <td>[-0.33899999999999864, -1.90300000000002]</td>\n",
       "      <td>[-1.910000000000025, -4.276000000000067]</td>\n",
       "    </tr>\n",
       "    <tr>\n",
       "      <th>...</th>\n",
       "      <td>...</td>\n",
       "      <td>...</td>\n",
       "      <td>...</td>\n",
       "      <td>...</td>\n",
       "      <td>...</td>\n",
       "      <td>...</td>\n",
       "    </tr>\n",
       "    <tr>\n",
       "      <th>376</th>\n",
       "      <td>[1.9723523754827463, -0.4720986514141277]</td>\n",
       "      <td>NaN</td>\n",
       "      <td>NaN</td>\n",
       "      <td>NaN</td>\n",
       "      <td>NaN</td>\n",
       "      <td>NaN</td>\n",
       "    </tr>\n",
       "    <tr>\n",
       "      <th>377</th>\n",
       "      <td>[1.783906470998763, -0.4205889639945817]</td>\n",
       "      <td>NaN</td>\n",
       "      <td>NaN</td>\n",
       "      <td>NaN</td>\n",
       "      <td>NaN</td>\n",
       "      <td>NaN</td>\n",
       "    </tr>\n",
       "    <tr>\n",
       "      <th>378</th>\n",
       "      <td>[1.8364963045822984, -0.414838869174028]</td>\n",
       "      <td>NaN</td>\n",
       "      <td>NaN</td>\n",
       "      <td>NaN</td>\n",
       "      <td>NaN</td>\n",
       "      <td>NaN</td>\n",
       "    </tr>\n",
       "    <tr>\n",
       "      <th>379</th>\n",
       "      <td>[1.9999102240345528, -0.44535267086528335]</td>\n",
       "      <td>NaN</td>\n",
       "      <td>NaN</td>\n",
       "      <td>NaN</td>\n",
       "      <td>NaN</td>\n",
       "      <td>NaN</td>\n",
       "    </tr>\n",
       "    <tr>\n",
       "      <th>380</th>\n",
       "      <td>[1.961233226918754, -0.41559973813296724]</td>\n",
       "      <td>NaN</td>\n",
       "      <td>NaN</td>\n",
       "      <td>NaN</td>\n",
       "      <td>NaN</td>\n",
       "      <td>NaN</td>\n",
       "    </tr>\n",
       "  </tbody>\n",
       "</table>\n",
       "<p>381 rows × 6 columns</p>\n",
       "</div>"
      ],
      "text/plain": [
       "                                          V_ego  \\\n",
       "0     [-3.1712023320455462, -8.567313420091782]   \n",
       "1     [-3.1207235773484103, -8.562076268008871]   \n",
       "2      [-3.1653930094341445, -8.53617857224011]   \n",
       "3      [-3.1740825254365994, -8.49344994582648]   \n",
       "4      [-3.243236261012891, -8.504405724567667]   \n",
       "..                                          ...   \n",
       "376   [1.9723523754827463, -0.4720986514141277]   \n",
       "377    [1.783906470998763, -0.4205889639945817]   \n",
       "378    [1.8364963045822984, -0.414838869174028]   \n",
       "379  [1.9999102240345528, -0.44535267086528335]   \n",
       "380   [1.961233226918754, -0.41559973813296724]   \n",
       "\n",
       "                                 vehicle.car1  \\\n",
       "0    [1.9870000000000232, 4.3539999999998145]   \n",
       "1     [2.1499999999999773, 4.671000000000049]   \n",
       "2                                         NaN   \n",
       "3                                         NaN   \n",
       "4                                         NaN   \n",
       "..                                        ...   \n",
       "376                                       NaN   \n",
       "377                                       NaN   \n",
       "378                                       NaN   \n",
       "379                                       NaN   \n",
       "380                                       NaN   \n",
       "\n",
       "                                    vehicle.car2  \\\n",
       "0    [-0.41200000000003456, -0.7470000000000709]   \n",
       "1    [-0.10899999999998045, -0.2179999999998472]   \n",
       "2    [-0.19499999999999318, -0.9660000000001219]   \n",
       "3     [-0.5600000000000023, -1.2539999999999054]   \n",
       "4     [-0.7340000000000373, -1.7799999999999727]   \n",
       "..                                           ...   \n",
       "376                                          NaN   \n",
       "377                                          NaN   \n",
       "378                                          NaN   \n",
       "379                                          NaN   \n",
       "380                                          NaN   \n",
       "\n",
       "                                  vehicle.car3  \\\n",
       "0      [-2.197999999999979, -5.18100000000004]   \n",
       "1    [-2.4879999999999995, -5.692999999999984]   \n",
       "2     [-2.009999999999991, -5.037000000000035]   \n",
       "3    [-2.2410000000000423, -4.997000000000071]   \n",
       "4                                          NaN   \n",
       "..                                         ...   \n",
       "376                                        NaN   \n",
       "377                                        NaN   \n",
       "378                                        NaN   \n",
       "379                                        NaN   \n",
       "380                                        NaN   \n",
       "\n",
       "                                   vehicle.car4  \\\n",
       "0    [-0.8670000000000186, -2.4420000000000073]   \n",
       "1                   [-0.8799999999999955, -2.5]   \n",
       "2     [-0.4919999999999618, -2.310000000000173]   \n",
       "3     [-0.4910000000000423, -2.269999999999982]   \n",
       "4     [-0.33899999999999864, -1.90300000000002]   \n",
       "..                                          ...   \n",
       "376                                         NaN   \n",
       "377                                         NaN   \n",
       "378                                         NaN   \n",
       "379                                         NaN   \n",
       "380                                         NaN   \n",
       "\n",
       "                                   vehicle.car5  \n",
       "0    [-1.5790000000000077, -3.6520000000000437]  \n",
       "1    [-1.5790000000000077, -3.6519999999998163]  \n",
       "2    [-1.5790000000000077, -3.6520000000000437]  \n",
       "3    [-1.5779999999999745, -3.6520000000000437]  \n",
       "4      [-1.910000000000025, -4.276000000000067]  \n",
       "..                                          ...  \n",
       "376                                         NaN  \n",
       "377                                         NaN  \n",
       "378                                         NaN  \n",
       "379                                         NaN  \n",
       "380                                         NaN  \n",
       "\n",
       "[381 rows x 6 columns]"
      ]
     },
     "execution_count": 21,
     "metadata": {},
     "output_type": "execute_result"
    }
   ],
   "source": [
    "df_vecteurs"
   ]
  }
 ],
 "metadata": {
  "kernelspec": {
   "display_name": "Python 3",
   "language": "python",
   "name": "python3"
  },
  "language_info": {
   "codemirror_mode": {
    "name": "ipython",
    "version": 3
   },
   "file_extension": ".py",
   "mimetype": "text/x-python",
   "name": "python",
   "nbconvert_exporter": "python",
   "pygments_lexer": "ipython3",
   "version": "3.7.10"
  }
 },
 "nbformat": 4,
 "nbformat_minor": 5
}
